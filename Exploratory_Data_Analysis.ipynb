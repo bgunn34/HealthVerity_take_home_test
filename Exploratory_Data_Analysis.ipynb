{
 "cells": [
  {
   "cell_type": "code",
   "execution_count": 56,
   "id": "5ab640f8",
   "metadata": {},
   "outputs": [],
   "source": [
    "import pandas as pd"
   ]
  },
  {
   "cell_type": "code",
   "execution_count": 57,
   "id": "3ff9ddd9",
   "metadata": {},
   "outputs": [],
   "source": [
    "df = pd.read_csv('data/sample_claims.csv')"
   ]
  },
  {
   "cell_type": "code",
   "execution_count": 58,
   "id": "77e1d719",
   "metadata": {
    "scrolled": true
   },
   "outputs": [
    {
     "data": {
      "text/html": [
       "<div>\n",
       "<style scoped>\n",
       "    .dataframe tbody tr th:only-of-type {\n",
       "        vertical-align: middle;\n",
       "    }\n",
       "\n",
       "    .dataframe tbody tr th {\n",
       "        vertical-align: top;\n",
       "    }\n",
       "\n",
       "    .dataframe thead th {\n",
       "        text-align: right;\n",
       "    }\n",
       "</style>\n",
       "<table border=\"1\" class=\"dataframe\">\n",
       "  <thead>\n",
       "    <tr style=\"text-align: right;\">\n",
       "      <th></th>\n",
       "      <th>patient_id</th>\n",
       "      <th>claim_id</th>\n",
       "      <th>diagnosis_codes</th>\n",
       "      <th>procedure_code</th>\n",
       "      <th>date_service</th>\n",
       "      <th>date_received</th>\n",
       "    </tr>\n",
       "  </thead>\n",
       "  <tbody>\n",
       "    <tr>\n",
       "      <th>0</th>\n",
       "      <td>A1670</td>\n",
       "      <td>1.0</td>\n",
       "      <td>Z01.419^Z11.51</td>\n",
       "      <td>99999</td>\n",
       "      <td>2021-01-25</td>\n",
       "      <td>2021-01-26</td>\n",
       "    </tr>\n",
       "    <tr>\n",
       "      <th>1</th>\n",
       "      <td>A0086</td>\n",
       "      <td>2.0</td>\n",
       "      <td>Z01.419^Z12.4</td>\n",
       "      <td>99999</td>\n",
       "      <td>2021-01-27</td>\n",
       "      <td>2021-01-29</td>\n",
       "    </tr>\n",
       "    <tr>\n",
       "      <th>2</th>\n",
       "      <td>A0086</td>\n",
       "      <td>3.0</td>\n",
       "      <td>Z12.4^Z11.51</td>\n",
       "      <td>87491</td>\n",
       "      <td>2021-01-07</td>\n",
       "      <td>2021-01-10</td>\n",
       "    </tr>\n",
       "    <tr>\n",
       "      <th>3</th>\n",
       "      <td>A0086</td>\n",
       "      <td>4.0</td>\n",
       "      <td>R30.0</td>\n",
       "      <td>86735</td>\n",
       "      <td>2021-01-15</td>\n",
       "      <td>2021-01-16</td>\n",
       "    </tr>\n",
       "    <tr>\n",
       "      <th>4</th>\n",
       "      <td>A0311</td>\n",
       "      <td>5.0</td>\n",
       "      <td>Z34.81^I10^G40.909^E66.9</td>\n",
       "      <td>83014</td>\n",
       "      <td>2021-01-06</td>\n",
       "      <td>2021-01-07</td>\n",
       "    </tr>\n",
       "  </tbody>\n",
       "</table>\n",
       "</div>"
      ],
      "text/plain": [
       "  patient_id  claim_id           diagnosis_codes procedure_code date_service  \\\n",
       "0      A1670       1.0            Z01.419^Z11.51          99999   2021-01-25   \n",
       "1      A0086       2.0             Z01.419^Z12.4          99999   2021-01-27   \n",
       "2      A0086       3.0              Z12.4^Z11.51          87491   2021-01-07   \n",
       "3      A0086       4.0                     R30.0          86735   2021-01-15   \n",
       "4      A0311       5.0  Z34.81^I10^G40.909^E66.9          83014   2021-01-06   \n",
       "\n",
       "  date_received  \n",
       "0    2021-01-26  \n",
       "1    2021-01-29  \n",
       "2    2021-01-10  \n",
       "3    2021-01-16  \n",
       "4    2021-01-07  "
      ]
     },
     "execution_count": 58,
     "metadata": {},
     "output_type": "execute_result"
    }
   ],
   "source": [
    "df.head()"
   ]
  },
  {
   "cell_type": "code",
   "execution_count": 59,
   "id": "ce21d4b5",
   "metadata": {},
   "outputs": [
    {
     "data": {
      "text/plain": [
       "patient_id          object\n",
       "claim_id           float64\n",
       "diagnosis_codes     object\n",
       "procedure_code      object\n",
       "date_service        object\n",
       "date_received       object\n",
       "dtype: object"
      ]
     },
     "execution_count": 59,
     "metadata": {},
     "output_type": "execute_result"
    }
   ],
   "source": [
    "df.dtypes"
   ]
  },
  {
   "cell_type": "markdown",
   "id": "13440686",
   "metadata": {},
   "source": [
    "##### What are the top 5 most common valid procedure codes?"
   ]
  },
  {
   "cell_type": "code",
   "execution_count": 60,
   "id": "b01086c4",
   "metadata": {},
   "outputs": [],
   "source": [
    "valid_cpts = pd.read_csv('data/valid_cpt_codes.csv', dtype=str)"
   ]
  },
  {
   "cell_type": "code",
   "execution_count": 61,
   "id": "7e4b6026",
   "metadata": {},
   "outputs": [
    {
     "data": {
      "text/plain": [
       "code                 object\n",
       "short_description    object\n",
       "dtype: object"
      ]
     },
     "execution_count": 61,
     "metadata": {},
     "output_type": "execute_result"
    }
   ],
   "source": [
    "valid_cpts.dtypes"
   ]
  },
  {
   "cell_type": "code",
   "execution_count": 62,
   "id": "e98fc9bf",
   "metadata": {},
   "outputs": [],
   "source": [
    "cpts = df.loc[df['procedure_code'].isin(valid_cpts['code']), 'procedure_code']"
   ]
  },
  {
   "cell_type": "code",
   "execution_count": 63,
   "id": "86cecca6",
   "metadata": {},
   "outputs": [],
   "source": [
    "top_5_cpts = cpts.value_counts().head().index"
   ]
  },
  {
   "cell_type": "code",
   "execution_count": 64,
   "id": "eb4bd76a",
   "metadata": {},
   "outputs": [
    {
     "data": {
      "text/plain": [
       "Index(['88175', '87591', '87491', '87798', '85049'], dtype='object')"
      ]
     },
     "execution_count": 64,
     "metadata": {},
     "output_type": "execute_result"
    }
   ],
   "source": [
    "top_5_cpts"
   ]
  },
  {
   "attachments": {},
   "cell_type": "markdown",
   "id": "c74c42ae",
   "metadata": {},
   "source": [
    "##### How many patients are associated with at least one of those procedures? "
   ]
  },
  {
   "cell_type": "code",
   "execution_count": 65,
   "id": "01cdfead",
   "metadata": {},
   "outputs": [
    {
     "data": {
      "text/plain": [
       "array(['A0086', 'A0311', 'A0482', 'A1019', 'A1085', 'A1230', 'A1234',\n",
       "       'A1244', 'A1245', 'A1249', 'A1258', 'A1406', 'A1412', 'A1415',\n",
       "       'A1416', 'A1517', 'A1549', 'A1571', 'A1575', 'A1580', 'A1583',\n",
       "       'A1586', 'A1616', 'A1617', 'A1621', 'A1623', 'A1655', 'A1662',\n",
       "       'A1663', 'A1664', 'A1665', 'A1668', 'A1670', 'A1688', 'A1696',\n",
       "       'A3175', 'A3185', 'A3213', 'A3215', 'A3268', 'A3315', 'A3325',\n",
       "       'A3343', 'A3347', 'A3350', 'A3356', 'A3362', 'A3369', 'A3371',\n",
       "       'A3372', 'A3374', 'A3378', 'A3379', 'A3387', 'A3388', 'A3389',\n",
       "       'A3393', 'A3396'], dtype=object)"
      ]
     },
     "execution_count": 65,
     "metadata": {},
     "output_type": "execute_result"
    }
   ],
   "source": [
    "u_patients = df.loc[df['procedure_code'].isin(top_5_cpts), 'patient_id'].unique()\n",
    "u_patients"
   ]
  },
  {
   "cell_type": "code",
   "execution_count": 66,
   "id": "75c11425",
   "metadata": {},
   "outputs": [
    {
     "data": {
      "text/plain": [
       "58"
      ]
     },
     "execution_count": 66,
     "metadata": {},
     "output_type": "execute_result"
    }
   ],
   "source": [
    "len(u_patients)"
   ]
  },
  {
   "attachments": {},
   "cell_type": "markdown",
   "id": "da598b43",
   "metadata": {},
   "source": [
    "##### What are the top 5 most common valid diagnosis codes?"
   ]
  },
  {
   "cell_type": "code",
   "execution_count": 67,
   "id": "b1d1b53c",
   "metadata": {},
   "outputs": [],
   "source": [
    "valid_icds = pd.read_csv('data/valid_icd_10_codes.csv')"
   ]
  },
  {
   "cell_type": "code",
   "execution_count": 68,
   "id": "7df64f01",
   "metadata": {},
   "outputs": [
    {
     "data": {
      "text/plain": [
       "code    object\n",
       "dtype: object"
      ]
     },
     "execution_count": 68,
     "metadata": {},
     "output_type": "execute_result"
    }
   ],
   "source": [
    "valid_icds.dtypes"
   ]
  },
  {
   "cell_type": "code",
   "execution_count": 69,
   "id": "f51c9289",
   "metadata": {},
   "outputs": [],
   "source": [
    "icd_lists = df['diagnosis_codes'].str.split('^')"
   ]
  },
  {
   "cell_type": "code",
   "execution_count": 70,
   "id": "4625b1ca",
   "metadata": {},
   "outputs": [
    {
     "data": {
      "text/plain": [
       "0                [Z01.419, Z11.51]\n",
       "1                 [Z01.419, Z12.4]\n",
       "2                  [Z12.4, Z11.51]\n",
       "3                          [R30.0]\n",
       "4    [Z34.81, I10, G40.909, E66.9]\n",
       "Name: diagnosis_codes, dtype: object"
      ]
     },
     "execution_count": 70,
     "metadata": {},
     "output_type": "execute_result"
    }
   ],
   "source": [
    "icd_lists.head()"
   ]
  },
  {
   "cell_type": "code",
   "execution_count": 71,
   "id": "6f8bd0cf",
   "metadata": {},
   "outputs": [
    {
     "data": {
      "text/plain": [
       "0       Z01.419\n",
       "0        Z11.51\n",
       "1       Z01.419\n",
       "1         Z12.4\n",
       "2         Z12.4\n",
       "         ...   \n",
       "4998      Z11.8\n",
       "4998     Z32.01\n",
       "4999      R41.3\n",
       "4999      E78.2\n",
       "4999      E03.9\n",
       "Name: diagnosis_codes, Length: 11410, dtype: object"
      ]
     },
     "execution_count": 71,
     "metadata": {},
     "output_type": "execute_result"
    }
   ],
   "source": [
    "icds = icd_lists.explode()\n",
    "icds"
   ]
  },
  {
   "cell_type": "code",
   "execution_count": 72,
   "id": "4ef80f51",
   "metadata": {},
   "outputs": [
    {
     "data": {
      "text/plain": [
       "0       Z01419\n",
       "0        Z1151\n",
       "1       Z01419\n",
       "1         Z124\n",
       "2         Z124\n",
       "         ...  \n",
       "4998      Z118\n",
       "4998     Z3201\n",
       "4999      R413\n",
       "4999      E782\n",
       "4999      E039\n",
       "Name: diagnosis_codes, Length: 11410, dtype: object"
      ]
     },
     "execution_count": 72,
     "metadata": {},
     "output_type": "execute_result"
    }
   ],
   "source": [
    "icds = icds.str.replace('.', '', regex=False)\n",
    "icds"
   ]
  },
  {
   "cell_type": "code",
   "execution_count": 73,
   "id": "b9fd8a06",
   "metadata": {},
   "outputs": [
    {
     "data": {
      "text/plain": [
       "0       Z01419\n",
       "0        Z1151\n",
       "1       Z01419\n",
       "1         Z124\n",
       "2         Z124\n",
       "         ...  \n",
       "4998      Z113\n",
       "4998     Z3201\n",
       "4999      R413\n",
       "4999      E782\n",
       "4999      E039\n",
       "Name: diagnosis_codes, Length: 9710, dtype: object"
      ]
     },
     "execution_count": 73,
     "metadata": {},
     "output_type": "execute_result"
    }
   ],
   "source": [
    "icds.loc[icds.isin(valid_icds['code'])]"
   ]
  },
  {
   "cell_type": "code",
   "execution_count": 74,
   "id": "da6b6e91",
   "metadata": {},
   "outputs": [
    {
     "data": {
      "text/plain": [
       "Index(['Z113', 'E559', 'Z01419', 'Z118', 'Z3481'], dtype='object')"
      ]
     },
     "execution_count": 74,
     "metadata": {},
     "output_type": "execute_result"
    }
   ],
   "source": [
    "top_5_icds = icds.value_counts().head().index\n",
    "top_5_icds"
   ]
  },
  {
   "cell_type": "code",
   "execution_count": null,
   "id": "0e644b72",
   "metadata": {},
   "outputs": [],
   "source": []
  }
 ],
 "metadata": {
  "kernelspec": {
   "display_name": "Python 3 (ipykernel)",
   "language": "python",
   "name": "python3"
  },
  "language_info": {
   "codemirror_mode": {
    "name": "ipython",
    "version": 3
   },
   "file_extension": ".py",
   "mimetype": "text/x-python",
   "name": "python",
   "nbconvert_exporter": "python",
   "pygments_lexer": "ipython3",
   "version": "3.9.10"
  }
 },
 "nbformat": 4,
 "nbformat_minor": 5
}
