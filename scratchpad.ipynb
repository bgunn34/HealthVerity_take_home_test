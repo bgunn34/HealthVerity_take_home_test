{
 "cells": [
  {
   "cell_type": "code",
   "execution_count": 1,
   "id": "4a6760ed",
   "metadata": {},
   "outputs": [],
   "source": [
    "import pandas as pd"
   ]
  },
  {
   "cell_type": "code",
   "execution_count": 11,
   "id": "1ac7cb5a",
   "metadata": {
    "scrolled": true
   },
   "outputs": [],
   "source": [
    "dtypes = {\n",
    "\t'patient_id': str,\n",
    "\t'claim_id': int,\n",
    "\t'diagnosis_code': str,\n",
    "\t'procedure_code': int,\n",
    "\t'date_service': str,\n",
    "\t'date_received': str,\n",
    "}\n",
    "df = pd.read_csv('data/sample_claims.csv')"
   ]
  },
  {
   "cell_type": "code",
   "execution_count": 6,
   "id": "6977470f",
   "metadata": {},
   "outputs": [
    {
     "data": {
      "text/plain": [
       "0"
      ]
     },
     "execution_count": 6,
     "metadata": {},
     "output_type": "execute_result"
    }
   ],
   "source": [
    "df.loc[df['patient_id'] == 'zzzzzz'].size"
   ]
  },
  {
   "cell_type": "code",
   "execution_count": 10,
   "id": "6bb87e74",
   "metadata": {},
   "outputs": [
    {
     "data": {
      "text/html": [
       "<div>\n",
       "<style scoped>\n",
       "    .dataframe tbody tr th:only-of-type {\n",
       "        vertical-align: middle;\n",
       "    }\n",
       "\n",
       "    .dataframe tbody tr th {\n",
       "        vertical-align: top;\n",
       "    }\n",
       "\n",
       "    .dataframe thead th {\n",
       "        text-align: right;\n",
       "    }\n",
       "</style>\n",
       "<table border=\"1\" class=\"dataframe\">\n",
       "  <thead>\n",
       "    <tr style=\"text-align: right;\">\n",
       "      <th></th>\n",
       "      <th>patient_id</th>\n",
       "      <th>claim_id</th>\n",
       "      <th>diagnosis_codes</th>\n",
       "      <th>procedure_code</th>\n",
       "      <th>date_service</th>\n",
       "      <th>date_received</th>\n",
       "    </tr>\n",
       "  </thead>\n",
       "  <tbody>\n",
       "    <tr>\n",
       "      <th>570</th>\n",
       "      <td>A1415</td>\n",
       "      <td>572.0</td>\n",
       "      <td>M15.0^L65.9^M85.9^E55.9^R73.09^E78.5</td>\n",
       "      <td>86850</td>\n",
       "      <td>NaN</td>\n",
       "      <td>2021-01-29</td>\n",
       "    </tr>\n",
       "  </tbody>\n",
       "</table>\n",
       "</div>"
      ],
      "text/plain": [
       "    patient_id  claim_id                       diagnosis_codes procedure_code  \\\n",
       "570      A1415     572.0  M15.0^L65.9^M85.9^E55.9^R73.09^E78.5          86850   \n",
       "\n",
       "    date_service date_received  \n",
       "570          NaN    2021-01-29  "
      ]
     },
     "execution_count": 10,
     "metadata": {},
     "output_type": "execute_result"
    }
   ],
   "source": [
    "df.loc[df['claim_id'] == 572]"
   ]
  },
  {
   "cell_type": "code",
   "execution_count": 12,
   "id": "0e6e0766",
   "metadata": {},
   "outputs": [],
   "source": [
    "claim_ids = df.loc[df['claim_id'].notna(), 'claim_id']"
   ]
  },
  {
   "cell_type": "code",
   "execution_count": 14,
   "id": "081b377d",
   "metadata": {},
   "outputs": [
    {
     "data": {
      "text/plain": [
       "True"
      ]
     },
     "execution_count": 14,
     "metadata": {},
     "output_type": "execute_result"
    }
   ],
   "source": [
    "(claim_ids == claim_ids.astype(int)).all()"
   ]
  },
  {
   "cell_type": "code",
   "execution_count": null,
   "id": "70d22906",
   "metadata": {},
   "outputs": [],
   "source": [
    "claim_ids.eq(claim_ids.astype(int)).all()"
   ]
  },
  {
   "cell_type": "code",
   "execution_count": null,
   "id": "508c6b51",
   "metadata": {},
   "outputs": [],
   "source": []
  }
 ],
 "metadata": {
  "kernelspec": {
   "display_name": "Python 3 (ipykernel)",
   "language": "python",
   "name": "python3"
  },
  "language_info": {
   "codemirror_mode": {
    "name": "ipython",
    "version": 3
   },
   "file_extension": ".py",
   "mimetype": "text/x-python",
   "name": "python",
   "nbconvert_exporter": "python",
   "pygments_lexer": "ipython3",
   "version": "3.9.10"
  }
 },
 "nbformat": 4,
 "nbformat_minor": 5
}
